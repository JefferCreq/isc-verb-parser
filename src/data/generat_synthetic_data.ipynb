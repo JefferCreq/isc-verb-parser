{
 "cells": [
  {
   "cell_type": "code",
   "execution_count": 1,
   "metadata": {},
   "outputs": [],
   "source": [
    "import json\n",
    "import pandas as pd\n",
    "from collections import defaultdict\n",
    "\n",
    "# Cargar el archivo JSON\n",
    "with open(\"../data_extraction/json/isc_vocabulary_verbs.json\", \"r\") as file:\n",
    "    vocabulary = json.load(file)"
   ]
  },
  {
   "cell_type": "code",
   "execution_count": 2,
   "metadata": {},
   "outputs": [],
   "source": [
    "# Función para generar conjugaciones en base a las reglas gramaticales\n",
    "def generate_conjugations(verb, base_form):\n",
    "    conjugations = [\n",
    "        # ASPECT\n",
    "        (verb, f\"{base_form}a\", \"V;PFV\"),  # Perfectivo pasado indicativo transitivo\n",
    "        (verb, f\"{base_form}i\", \"V;IPFV\"),  # Imperfectivo presente indicativo intransitivo\n",
    "        (verb, f\"{base_form}mis\", \"V;HAB_A\"),  # Habitual pasado remoto indicativo\n",
    "        (verb, f\"{base_form}misa\", \"V;PFV;HAB_A\"),  # Habitual pasado remoto indicativo\n",
    "        (verb, f\"{base_form}isi\", \"V;IPFV;PROG\"),  # Progresivo presente indicativo\n",
    "        # TENSE\n",
    "        (verb, f\"{base_form}ri\", \"V;PST.yet\"),  # pasado reciente indicativo (con sufijo ‘-ri’ para 'todavía')\n",
    "        (verb, f\"{base_form}bai\", \"V;PST.DUR\"),  # \n",
    "        (verb, f\"{base_form}yantana\", \"V;PFV;PST.yesterday\"),  # \n",
    "        (verb, f\"{base_form}shina\", \"V;PST.days\"),  # Pasado específico para días recientes\n",
    "        (verb, f\"{base_form}paoni\", \"V;PST.REM\"),  # Pasado remoto indicativo\n",
    "        (verb, f\"{base_form}nonkota\", \"V;FUT.INM\"),  # Futuro inmediato indicativo\n",
    "        (verb, f\"{base_form}i kai\", \"V;IPFV;FUT.INM\"),  # Futuro inmediato indicativo\n",
    "        # MOOD\n",
    "        (verb, f\"{base_form}bira\", \"V;PFV;DUB\"),  # Dubitativo en presente\n",
    "        (verb, f\"{base_form}birai\", \"V;IPFV;DUB\"),  # Dubitativo en presente\n",
    "        (verb, f\"{base_form}koinsi\", \"V;ASER\"),  # Asertivo presente\n",
    "        (verb, f\"{base_form}anaka\", \"V;EST;HAB_M\"),  # Habilitivo presente\n",
    "        (verb, f\"{base_form}katsi iki\", \"V;DES\"),  # Desiderativo presente\n",
    "        # NUMBER\n",
    "        (verb, f\"{base_form}rabea\", \"V;PFV;DUAL\"),  #\n",
    "        (verb, f\"{base_form}rabei\", \"V;IPFV;DUAL\"),  # \n",
    "        (verb, f\"{base_form}botana\", \"V;EST;PLU\"),  # \n",
    "        # NEGATION\n",
    "        (verb, f\"{base_form}ma\", \"V;PFV;NEG\"),  # Negativo en presente indicativo\n",
    "        (verb, f\"{base_form}mai\", \"V;IPFV;NEG\"),  # Negativo en presente indicativo\n",
    "        (verb, f\"{base_form}mashina\", \"V;PST.days;NEG\"),  # Negativo en presente indicativo\n",
    "        (verb, f\"{base_form}yohma\", \"V;NEG.never\"),  # Negación enfática (nunca) en presente\n",
    "        (verb, f\"{base_form}kean\", \"V;NEG.FRUS\"),  # Frustrativo en presente indicativo\n",
    "        # MOVEMENT\n",
    "        (verb, f\"{base_form}berana\", \"V;TR;PFV;MOV.VEN\"),  # ‘venitivo’\n",
    "        (verb, f\"{base_form}kerana\", \"V;INTR;PFV;MOV.VEN\"),  # ‘venitivo’\n",
    "        (verb, f\"{base_form}baina\", \"V;TR;PFV;MOV.ANDA\"),  # ‘andativo’\n",
    "        (verb, f\"{base_form}kaina\", \"V;INTR;PFV;MOV.ANDA\"),  # ‘andativo’\n",
    "        (verb, f\"{base_form}bokona\", \"V;TR;PFV;MOV.around\"),  # dando la vuelta\n",
    "        (verb, f\"{base_form}akea\", \"V;INTR;PFV;MOV.around\"),  # dando la vuelta\n",
    "        (verb, f\"{base_form}akea\", \"V;PFV;MOV.passing\"),  # ‘pasando’\n",
    "        (verb, f\"{base_form}pakea\", \"V;PFV;MOV.down\"),  # ‘bajando’\n",
    "        (verb, f\"{base_form}ina\", \"V;PFV;MOV.up\"),  # ‘subiendo’\n",
    "        (verb, f\"{base_form}tana\", \"V;PFV;MOV.goto\"),  # ir a\n",
    "        # OTHER\n",
    "        (verb, f\"{base_form}hona\", \"V;PFV;BEN\"), # Benefactivo\n",
    "        (verb, f\"{base_form}arana\", \"V;PFV;MAL\"), # Malefactivo\n",
    "        (verb, f\"{base_form}makarana\", \"V;PFV;CAU;MAL\"), # Causativo + Malefactivo\n",
    "        (verb, f\"{base_form}mai\", \"V;IPFV;CAU\"), # Causativo\n",
    "        (verb, f\"{base_form}ma\", \"V;PFV;CAU\"), # Causativo\n",
    "        (verb, f\"{base_form}hakoa\", \"V;PFV;DIM\"), # Diminutivo\n",
    "        (verb, f\"{base_form}hekoi\", \"V;IPFV;DIM\"), # Diminutivo\n",
    "        (verb, f\"{base_form}aranhakoa\", \"V;PFV;MAL;DIM\"), # Malefactivo + Diminutivo\n",
    "        (verb, f\"{base_form}hekoni\", \"V;PST.REM;DIM\"), # Diminutivo + Pasado remoto      \n",
    "    ]\n",
    "    return conjugations\n"
   ]
  },
  {
   "cell_type": "code",
   "execution_count": 3,
   "metadata": {},
   "outputs": [
    {
     "name": "stdout",
     "output_type": "stream",
     "text": [
      "(485, 4)\n",
      "(319, 4)\n"
     ]
    }
   ],
   "source": [
    "# Filtrar vocab Vocabulary\n",
    "vocabulary = pd.DataFrame(vocabulary)   \n",
    "\n",
    "# filtrar aquellos verbos que tioenen mas de una palabra\n",
    "print(vocabulary.shape)\n",
    "vocabulary = vocabulary[vocabulary['verb'].str.contains(' ')==False]\n",
    "print(vocabulary.shape)\n"
   ]
  },
  {
   "cell_type": "code",
   "execution_count": 4,
   "metadata": {},
   "outputs": [
    {
     "name": "stdout",
     "output_type": "stream",
     "text": [
      "Generated inflections for unknown verbs saved to 'synthetic/generated_unknown_verbs.tsv'.\n",
      "Generated inflections for known verbs with new characteristics saved to 'synthetic/generated_new_forms.tsv'.\n"
     ]
    }
   ],
   "source": [
    "# Read the real inflections\n",
    "real_inflections = pd.read_csv(\"unimorph_output.tsv\", sep=\"\\t\", header=None)\n",
    "real_inflections.columns = [\"Root\", \"InflectedForm\", \"MorphologicalTags\"]\n",
    "\n",
    "# Create a mapping from root to set of (inflected form, tags)\n",
    "real_inflections_dict = defaultdict(set)\n",
    "for idx, row in real_inflections.iterrows():\n",
    "    root = row[\"Root\"]\n",
    "    inflected_form = row[\"InflectedForm\"]\n",
    "    tags = row[\"MorphologicalTags\"]\n",
    "    real_inflections_dict[root].add((inflected_form, tags))\n",
    "\n",
    "# Initialize lists to store the generated data\n",
    "generated_unknown_verbs = []  # Inflections for verbs not in real inflections\n",
    "generated_new_forms = []      # Inflections for known verbs but with new characteristics\n",
    "\n",
    "# Generate data in Unimorph format\n",
    "for index, row in vocabulary.iterrows():\n",
    "    verb = row[\"verb\"]\n",
    "    base_form = verb[:-1] if len(verb) > 2 and verb.endswith(('a', 'i')) else verb  # Extract the root of the verb\n",
    "    conjugations = generate_conjugations(verb, base_form)\n",
    "    # Replace \"ii\" with \"i\" and \"aa\" with \"a\" in the conjugations\n",
    "    conjugations = [(root, form.replace(\"ii\", \"i\").replace(\"aa\", \"a\").replace(\"kk\", \"k\")\n",
    "                     .replace(\"nn\", \"n\").replace(\"rr\", \"r\").replace(\"mm\", \"m\")\n",
    "                     .replace(\"hh\", \"h\").replace(\"tt\", \"t\").replace(\"ss\", \"s\"), tags) for root, form, tags in conjugations]\n",
    "    for root, form, tags in conjugations:\n",
    "        if root not in real_inflections_dict:\n",
    "            generated_unknown_verbs.append((root, form, tags))\n",
    "        else:\n",
    "            if (form, tags) not in real_inflections_dict[root]:\n",
    "                generated_new_forms.append((root, form, tags))\n",
    "\n",
    "# Convert the lists to DataFrames and save to files\n",
    "df_unknown_verbs = pd.DataFrame(generated_unknown_verbs, columns=[\"Root\", \"InflectedForm\", \"MorphologicalTags\"])\n",
    "df_unknown_verbs.to_csv(\"synthetic/generated_unknown_verbs.tsv\", sep=\"\\t\", index=False, header=False)\n",
    "\n",
    "df_new_forms = pd.DataFrame(generated_new_forms, columns=[\"Root\", \"InflectedForm\", \"MorphologicalTags\"])\n",
    "df_new_forms.to_csv(\"synthetic/generated_new_forms.tsv\", sep=\"\\t\", index=False, header=False)\n",
    "\n",
    "print(\"Generated inflections for unknown verbs saved to 'synthetic/generated_unknown_verbs.tsv'.\")\n",
    "print(\"Generated inflections for known verbs with new characteristics saved to 'synthetic/generated_new_forms.tsv'.\")"
   ]
  },
  {
   "cell_type": "code",
   "execution_count": 5,
   "metadata": {},
   "outputs": [
    {
     "name": "stdout",
     "output_type": "stream",
     "text": [
      "Archivo 'combinations/real_only.tsv' generado con solo datos reales.\n",
      "Archivo 'combinations/real_and_synthetic.tsv' generado con datos reales y sintéticos.\n",
      "Archivo 'combinations/synthetic_only.tsv' generado con solo datos sintéticos.\n"
     ]
    }
   ],
   "source": [
    "# Cargar los datos de los archivos existentes\n",
    "real_data = pd.read_csv(\"unimorph_output.tsv\", sep=\"\\t\", header=None)\n",
    "real_data.columns = [\"Root\", \"InflectedForm\", \"MorphologicalTags\"]\n",
    "\n",
    "synthetic_known_data = pd.read_csv(\"synthetic/generated_new_forms.tsv\", sep=\"\\t\", header=None)\n",
    "synthetic_known_data.columns = [\"Root\", \"InflectedForm\", \"MorphologicalTags\"]\n",
    "\n",
    "synthetic_unknown_data = pd.read_csv(\"synthetic/generated_unknown_verbs.tsv\", sep=\"\\t\", header=None)\n",
    "synthetic_unknown_data.columns = [\"Root\", \"InflectedForm\", \"MorphologicalTags\"]\n",
    "\n",
    "# 1. Solo datos reales\n",
    "real_data.to_csv(\"combinations/real_only.tsv\", sep=\"\\t\", index=False, header=False)\n",
    "print(\"Archivo 'combinations/real_only.tsv' generado con solo datos reales.\")\n",
    "\n",
    "# 2. Datos reales + datos sintéticos (conocidos y desconocidos)\n",
    "real_and_synthetic_data = pd.concat([real_data, synthetic_known_data, synthetic_unknown_data], ignore_index=True)\n",
    "real_and_synthetic_data.to_csv(\"combinations/real_and_synthetic.tsv\", sep=\"\\t\", index=False, header=False)\n",
    "print(\"Archivo 'combinations/real_and_synthetic.tsv' generado con datos reales y sintéticos.\")\n",
    "\n",
    "# 3. Solo datos sintéticos (conocidos y desconocidos)\n",
    "synthetic_only_data = pd.concat([synthetic_known_data, synthetic_unknown_data], ignore_index=True)\n",
    "synthetic_only_data.to_csv(\"combinations/synthetic_only.tsv\", sep=\"\\t\", index=False, header=False)\n",
    "print(\"Archivo 'combinations/synthetic_only.tsv' generado con solo datos sintéticos.\")\n"
   ]
  }
 ],
 "metadata": {
  "kernelspec": {
   "display_name": "venv",
   "language": "python",
   "name": "python3"
  },
  "language_info": {
   "codemirror_mode": {
    "name": "ipython",
    "version": 3
   },
   "file_extension": ".py",
   "mimetype": "text/x-python",
   "name": "python",
   "nbconvert_exporter": "python",
   "pygments_lexer": "ipython3",
   "version": "3.12.7"
  }
 },
 "nbformat": 4,
 "nbformat_minor": 2
}
